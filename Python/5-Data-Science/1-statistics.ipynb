{
 "cells": [
  {
   "cell_type": "code",
   "execution_count": 12,
   "metadata": {},
   "outputs": [],
   "source": [
    "import numpy as np"
   ]
  },
  {
   "cell_type": "markdown",
   "metadata": {},
   "source": [
    "## $Statistics$ $+$ $NumPy$\n",
    "---"
   ]
  },
  {
   "cell_type": "markdown",
   "metadata": {},
   "source": [
    "### Exercises:\n",
    "* Generate a 1D NumPy array with the values [7, 9, 65, 33, 85, 99]\n",
    "* Generate a matrix (2D NumPy array) of the values:\n",
    "\n",
    "\\begin{align}\n",
    "    \\mathbf{A} = \n",
    "    \\begin{pmatrix}\n",
    "        1 & 2 & 4 \\\\ \n",
    "        2 & 3 & 0 \\\\ \n",
    "        0 & 5 & 1 \n",
    "    \\end{pmatrix}\n",
    "\\end{align}\n",
    "\n",
    "\n",
    "* Change the dimensions of this array to another permitted shape\n",
    "* Run the code below and attempt to reshape the data array to the correct format\n",
    "\n",
    "```\n",
    "c1 = np.randint(0, 110, 50)\n",
    "c2 = np.random.rand(50)\n",
    "c3 = np.random.choice(['french', 'english'], 50)\n",
    "data = np.column_stack((c1, c2, c3)).flatten()\n",
    "```"
   ]
  },
  {
   "cell_type": "code",
   "execution_count": 19,
   "metadata": {},
   "outputs": [
    {
     "name": "stdout",
     "output_type": "stream",
     "text": [
      "[[ 7  9 65 33 85 99]]  is  (1, 6)\n"
     ]
    }
   ],
   "source": [
    "oneDimensional = np.array([[7, 9, 65, 33, 85, 99]])\n",
    "print(oneDimensional, \" is \", oneDimensional.shape)"
   ]
  },
  {
   "cell_type": "code",
   "execution_count": 27,
   "metadata": {},
   "outputs": [
    {
     "name": "stdout",
     "output_type": "stream",
     "text": [
      "[[1 2 4 2 3 0 0 5 1]]\n"
     ]
    }
   ],
   "source": [
    "twoDimensional = np.array([[1, 2, 4, 2, 3, 0, 0, 5, 1]]).reshape(1, 9)\n",
    "print(twoDimensional)"
   ]
  },
  {
   "cell_type": "code",
   "execution_count": 28,
   "metadata": {},
   "outputs": [
    {
     "name": "stdout",
     "output_type": "stream",
     "text": [
      "[[1 2 4]\n",
      " [2 3 0]\n",
      " [0 5 1]]\n"
     ]
    }
   ],
   "source": [
    "reshaped = twoDimensional.reshape(3, 3)\n",
    "print(reshaped)"
   ]
  },
  {
   "cell_type": "code",
   "execution_count": 41,
   "metadata": {},
   "outputs": [
    {
     "name": "stdout",
     "output_type": "stream",
     "text": [
      "[['56' '0.9640075021915289' 'english']\n",
      " ['7' '0.4440231135290146' 'french']\n",
      " ['7' '0.3044065376998273' 'english']\n",
      " ['48' '0.7198192221712646' 'english']\n",
      " ['74' '0.48939179433983226' 'french']]\n"
     ]
    }
   ],
   "source": [
    "c1 = np.random.randint(0, 110, 50)\n",
    "c2 = np.random.rand(50)\n",
    "c3 = np.random.choice(['french', 'english'], 50)\n",
    "data = np.column_stack((c1, c2, c3)).flatten()\n",
    "\n",
    "reshapedData = data.reshape(50, 3)\n",
    "print(reshapedData[:5])"
   ]
  }
 ],
 "metadata": {
  "kernelspec": {
   "display_name": "Python 3.10.6 64-bit",
   "language": "python",
   "name": "python3"
  },
  "language_info": {
   "codemirror_mode": {
    "name": "ipython",
    "version": 3
   },
   "file_extension": ".py",
   "mimetype": "text/x-python",
   "name": "python",
   "nbconvert_exporter": "python",
   "pygments_lexer": "ipython3",
   "version": "3.10.6"
  },
  "orig_nbformat": 4,
  "vscode": {
   "interpreter": {
    "hash": "369f2c481f4da34e4445cda3fffd2e751bd1c4d706f27375911949ba6bb62e1c"
   }
  }
 },
 "nbformat": 4,
 "nbformat_minor": 2
}
