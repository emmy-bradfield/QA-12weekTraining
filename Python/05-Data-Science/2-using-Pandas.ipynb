{
 "cells": [
  {
   "cell_type": "code",
   "execution_count": 1,
   "metadata": {},
   "outputs": [],
   "source": [
    "import numpy as np\n",
    "import pandas as pd\n",
    "import seaborn as sns\n",
    "import sqlite3 as sql"
   ]
  },
  {
   "cell_type": "markdown",
   "metadata": {},
   "source": [
    "## $Using$ $Pandas$\n",
    "---"
   ]
  },
  {
   "cell_type": "markdown",
   "metadata": {},
   "source": [
    "### Exercises\n",
    "* Create a Pandas Series from a NumPy array of 20 random integers\n",
    "* Index the array with CUSTOMER $n$ where $n$ represents the original index\n",
    "* Import the Seaborn Titanic Dataset as a Pandas DataFrame, and plot a graph sorting the columns by amount of missing data\n",
    "* Find the passenger with the least expensive first class ticket, where they embarked, and if they survived\n",
    "* Group passengers by class and find the mean age within each class\n",
    "* Merge the following DataFrames:\n",
    "\n",
    "<div style=\"display:inline-flex;justify-content:space-evenly\">\n",
    "\n",
    "\n",
    "| NAME | NUMBER |\n",
    "| ---- | ------ |\n",
    "| Alice | 01234567890 |\n",
    "| Charlie | 09876543210 |\n",
    "\n",
    "| NAME | SCORE |\n",
    "| ---- | ----- |\n",
    "| Alice  | 90 |\n",
    "| Bob | 80 |\n",
    "| Emily | 65 |\n",
    "| Charlie | 50 |\n",
    "\n",
    "</div>"
   ]
  },
  {
   "cell_type": "code",
   "execution_count": 2,
   "metadata": {},
   "outputs": [
    {
     "name": "stdout",
     "output_type": "stream",
     "text": [
      "0    87\n",
      "1    54\n",
      "2    54\n",
      "3    85\n",
      "4    54\n",
      "dtype: int32\n"
     ]
    }
   ],
   "source": [
    "np_array = np.random.randint(0, 100, 20)\n",
    "pd_array = pd.Series(np_array.flatten())\n",
    "print(pd_array[:5])"
   ]
  },
  {
   "cell_type": "code",
   "execution_count": 3,
   "metadata": {},
   "outputs": [
    {
     "name": "stdout",
     "output_type": "stream",
     "text": [
      "CUSTOMER 1    87\n",
      "CUSTOMER 2    54\n",
      "CUSTOMER 3    54\n",
      "CUSTOMER 4    85\n",
      "CUSTOMER 5    54\n",
      "dtype: int32\n"
     ]
    }
   ],
   "source": [
    "customers = ['CUSTOMER ' + str(i) for i in range(1, 21)]\n",
    "pd_array.index = customers\n",
    "print(pd_array[:5])"
   ]
  },
  {
   "cell_type": "code",
   "execution_count": 5,
   "metadata": {},
   "outputs": [
    {
     "data": {
      "image/png": "[encoded data removed]",
      "text/plain": [
       "<Figure size 640x480 with 1 Axes>"
      ]
     },
     "metadata": {},
     "output_type": "display_data"
    }
   ],
   "source": [
    "titanic = sns.load_dataset('titanic')\n",
    "titanic_sorted = titanic.isna().sum().sort_values(ascending=False).plot(kind='bar')"
   ]
  },
  {
   "cell_type": "code",
   "execution_count": 11,
   "metadata": {},
   "outputs": [
    {
     "data": {
      "text/html": [
       "<div>\n",
       "<style scoped>\n",
       "    .dataframe tbody tr th:only-of-type {\n",
       "        vertical-align: middle;\n",
       "    }\n",
       "\n",
       "    .dataframe tbody tr th {\n",
       "        vertical-align: top;\n",
       "    }\n",
       "\n",
       "    .dataframe thead th {\n",
       "        text-align: right;\n",
       "    }\n",
       "</style>\n",
       "<table border=\"1\" class=\"dataframe\">\n",
       "  <thead>\n",
       "    <tr style=\"text-align: right;\">\n",
       "      <th></th>\n",
       "      <th>fare</th>\n",
       "      <th>embarked</th>\n",
       "    </tr>\n",
       "  </thead>\n",
       "  <tbody>\n",
       "    <tr>\n",
       "      <th>633</th>\n",
       "      <td>0.0</td>\n",
       "      <td>S</td>\n",
       "    </tr>\n",
       "  </tbody>\n",
       "</table>\n",
       "</div>"
      ],
      "text/plain": [
       "     fare embarked\n",
       "633   0.0        S"
      ]
     },
     "execution_count": 11,
     "metadata": {},
     "output_type": "execute_result"
    }
   ],
   "source": [
    "highest_fare = titanic[titanic.loc[:, 'pclass']==1].sort_values(['fare']).head(1)\n",
    "highest_fare.loc[:, 'fare':'embarked']"
   ]
  },
  {
   "cell_type": "code",
   "execution_count": 22,
   "metadata": {},
   "outputs": [
    {
     "name": "stderr",
     "output_type": "stream",
     "text": [
      "C:\\Users\\EmmyB.000\\AppData\\Local\\Temp\\ipykernel_12760\\359715361.py:1: FutureWarning: The default value of numeric_only in DataFrameGroupBy.mean is deprecated. In a future version, numeric_only will default to False. Either specify numeric_only or select only columns which should be valid for the function.\n",
      "  class_group = titanic.groupby('class').mean()\n"
     ]
    },
    {
     "data": {
      "text/plain": [
       "class\n",
       "First     38.233441\n",
       "Second    29.877630\n",
       "Third     25.140620\n",
       "Name: age, dtype: float64"
      ]
     },
     "execution_count": 22,
     "metadata": {},
     "output_type": "execute_result"
    }
   ],
   "source": [
    "class_group = titanic.groupby('class').mean()\n",
    "class_group.loc[:, 'age']"
   ]
  },
  {
   "cell_type": "code",
   "execution_count": 28,
   "metadata": {},
   "outputs": [
    {
     "data": {
      "text/html": [
       "<div>\n",
       "<style scoped>\n",
       "    .dataframe tbody tr th:only-of-type {\n",
       "        vertical-align: middle;\n",
       "    }\n",
       "\n",
       "    .dataframe tbody tr th {\n",
       "        vertical-align: top;\n",
       "    }\n",
       "\n",
       "    .dataframe thead th {\n",
       "        text-align: right;\n",
       "    }\n",
       "</style>\n",
       "<table border=\"1\" class=\"dataframe\">\n",
       "  <thead>\n",
       "    <tr style=\"text-align: right;\">\n",
       "      <th></th>\n",
       "      <th>name</th>\n",
       "      <th>score</th>\n",
       "      <th>number</th>\n",
       "    </tr>\n",
       "  </thead>\n",
       "  <tbody>\n",
       "    <tr>\n",
       "      <th>0</th>\n",
       "      <td>Alice</td>\n",
       "      <td>90</td>\n",
       "      <td>01234567890</td>\n",
       "    </tr>\n",
       "    <tr>\n",
       "      <th>1</th>\n",
       "      <td>Bob</td>\n",
       "      <td>80</td>\n",
       "      <td>09876543210</td>\n",
       "    </tr>\n",
       "  </tbody>\n",
       "</table>\n",
       "</div>"
      ],
      "text/plain": [
       "    name  score       number\n",
       "0  Alice     90  01234567890\n",
       "1    Bob     80  09876543210"
      ]
     },
     "execution_count": 28,
     "metadata": {},
     "output_type": "execute_result"
    }
   ],
   "source": [
    "students = ['Alice', 'Bob', 'Emily', 'Charlie']\n",
    "scores = [90, 80, 65, 50]\n",
    "\n",
    "contacts = pd.DataFrame({'name': ['Alice', 'Bob'], 'number': ['01234567890', '09876543210']})\n",
    "exam_results = pd.DataFrame({'name': students, 'score': scores})\n",
    "\n",
    "merged = exam_results.merge(contacts, on='name')\n",
    "merged"
   ]
  },
  {
   "cell_type": "code",
   "execution_count": null,
   "metadata": {},
   "outputs": [],
   "source": []
  }
 ],
 "metadata": {
  "kernelspec": {
   "display_name": "Python 3.10.6 64-bit",
   "language": "python",
   "name": "python3"
  },
  "language_info": {
   "codemirror_mode": {
    "name": "ipython",
    "version": 3
   },
   "file_extension": ".py",
   "mimetype": "text/x-python",
   "name": "python",
   "nbconvert_exporter": "python",
   "pygments_lexer": "ipython3",
   "version": "3.10.6"
  },
  "orig_nbformat": 4,
  "vscode": {
   "interpreter": {
    "hash": "369f2c481f4da34e4445cda3fffd2e751bd1c4d706f27375911949ba6bb62e1c"
   }
  }
 },
 "nbformat": 4,
 "nbformat_minor": 2
}
