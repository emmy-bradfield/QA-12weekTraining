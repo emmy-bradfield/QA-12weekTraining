{
 "cells": [
  {
   "cell_type": "code",
   "execution_count": 17,
   "metadata": {
    "vscode": {
     "languageId": "html"
    }
   },
   "outputs": [
    {
     "data": {
      "text/html": [
       "<img style=\"width:10%;float:left;\" src=\"./1-intro/public/logo192.png\" alt=\"react logo\" /><h1 style=text-align:left;><br> &nbsp; &nbsp; MERN stack: React</h1>"
      ],
      "text/plain": [
       "<IPython.core.display.HTML object>"
      ]
     },
     "metadata": {},
     "output_type": "display_data"
    }
   ],
   "source": [
    "from IPython.display import display, HTML\n",
    "display(HTML('<img style=\"width:10%;float:left;\" src=\"./1-intro/public/logo192.png\" alt=\"react logo\" /><h1 style=text-align:left;><br> &nbsp; &nbsp; MERN stack: React</h1>'))"
   ]
  },
  {
   "cell_type": "markdown",
   "metadata": {},
   "source": [
    "#### $React$ $Components$\n",
    "React uses components to segment and break up specific parts of the page, which can then be called to render in the App.js file. This allows for the page to render faster, as only the component which has changed needs updating. Additionally, this allows for the website to exist as a single page, which is even more efficient. Finally, the use of jsx in components enhances security and can prevent malicious injections.\n",
    "\n",
    "To create a component, a new .jsx file is created (usually in src/components). A const is declared which returns the HTML for that component, then the .jsx file is exported at the end so it can easily be imported and called in the App.js file, as shown below:"
   ]
  },
  {
   "cell_type": "code",
   "execution_count": 18,
   "metadata": {
    "vscode": {
     "languageId": "javascript"
    }
   },
   "outputs": [
    {
     "data": {
      "application/javascript": "const Header = () => {\n    return (\n        <header className=\"App-header\">\n            <h2 className=\"title\">Learning React | Exercises</h2>\n        </header>\n    );\n}\n\nexport default Header;\n",
      "text/plain": [
       "<IPython.core.display.Javascript object>"
      ]
     },
     "metadata": {},
     "output_type": "display_data"
    }
   ],
   "source": [
    "%%js \n",
    "const Header = () => {\n",
    "    return (\n",
    "        <header className=\"App-header\">\n",
    "            <h2 className=\"title\">Learning React | Exercises</h2>\n",
    "        </header>\n",
    "    );\n",
    "}\n",
    "\n",
    "export default Header;"
   ]
  },
  {
   "cell_type": "code",
   "execution_count": 19,
   "metadata": {
    "vscode": {
     "languageId": "javascript"
    }
   },
   "outputs": [
    {
     "data": {
      "application/javascript": "import './App.css';\nimport Header from './components/Header.jsx';\n\nfunction App() {\n    return (\n        <div className=\"App\">\n            <Header/>\n        </div>\n    );\n}\n\nexport default App;\n",
      "text/plain": [
       "<IPython.core.display.Javascript object>"
      ]
     },
     "metadata": {},
     "output_type": "display_data"
    }
   ],
   "source": [
    "%%js \n",
    "import './App.css';\n",
    "import Header from './components/Header.jsx';\n",
    "\n",
    "function App() {\n",
    "    return (\n",
    "        <div className=\"App\">\n",
    "            <Header/>\n",
    "        </div>\n",
    "    );\n",
    "}\n",
    "\n",
    "export default App;\n"
   ]
  },
  {
   "cell_type": "markdown",
   "metadata": {},
   "source": [
    "In the above example, the header component looks like this:"
   ]
  },
  {
   "cell_type": "code",
   "execution_count": 24,
   "metadata": {
    "vscode": {
     "languageId": "javascript"
    }
   },
   "outputs": [
    {
     "data": {
      "text/html": [
       "<header class=\"App-header\" style=\"background-colour:#282c34;\"><h2 style=\"text-align:center;\">Learning React | Exercises</h2></header>"
      ],
      "text/plain": [
       "<IPython.core.display.HTML object>"
      ]
     },
     "metadata": {},
     "output_type": "display_data"
    }
   ],
   "source": [
    "display(HTML('<header class=\"App-header\" style=\"background-colour:#282c34;\"><h2 style=\"text-align:center;\">Learning React | Exercises</h2></header>'))"
   ]
  }
 ],
 "metadata": {
  "kernelspec": {
   "display_name": "Python 3.10.6 64-bit",
   "language": "python",
   "name": "python3"
  },
  "language_info": {
   "codemirror_mode": {
    "name": "ipython",
    "version": 3
   },
   "file_extension": ".py",
   "mimetype": "text/x-python",
   "name": "python",
   "nbconvert_exporter": "python",
   "pygments_lexer": "ipython3",
   "version": "3.10.6"
  },
  "orig_nbformat": 4,
  "vscode": {
   "interpreter": {
    "hash": "369f2c481f4da34e4445cda3fffd2e751bd1c4d706f27375911949ba6bb62e1c"
   }
  }
 },
 "nbformat": 4,
 "nbformat_minor": 2
}
