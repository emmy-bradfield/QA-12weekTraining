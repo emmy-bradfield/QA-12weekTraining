{
 "cells": [
  {
   "cell_type": "code",
   "execution_count": 144,
   "metadata": {},
   "outputs": [
    {
     "data": {
      "text/html": [
       "<img style=\"width:100%\" src=\"./assets/head.jpg\"><h1 style=\"text-align:center\">Module 1: Python for Machine Learning</h1><h1 style=\"text-align:center;\"><em>Linear Regression</em></h1>"
      ],
      "text/plain": [
       "<IPython.core.display.HTML object>"
      ]
     },
     "metadata": {},
     "output_type": "display_data"
    }
   ],
   "source": [
    "from IPython.display import display, HTML\n",
    "display(HTML('<img style=\"width:True00%\" src=\"./assets/head.jpg\"><h1 style=\"text-align:center\">Module 1: Python for Machine Learning</h1><h1 style=\"text-align:center;\"><em>Linear Regression</em></h1>'))"
   ]
  },
  {
   "cell_type": "markdown",
   "metadata": {},
   "source": [
    "### Part One: The Basic Pythonic Statistics\n",
    "---\n",
    "*Understanding the setup of machine learning with python - what are the functions used, how might they interact, and what basic calculations are needed to begin to stucture a linear regression model and calculate loss*"
   ]
  },
  {
   "cell_type": "markdown",
   "metadata": {},
   "source": [
    "**NOTATIONS FOR PART ONE**\n",
    "\n",
    "* $y$ -- target\n",
    "* $x$ -- feature\n",
    "* $X$ -- features\n",
    "* $\\mathcal{n}$ -- the total number of datapoints in a sample\n",
    "* $\\mathcal{N}$ -- the total number of datapoints in the population^1\n",
    "* $y = f(x)$ -- relationship\n",
    "* $\\hat{y}$ -- predicted $y$\n",
    "* $\\hat{f(x)}$ -- predicted relationship\n",
    "* $err = (\\hat{y} - y)$ -- error (distance between predicted and actual)\n",
    "* $loss = err^2 = (\\hat{y}, y)^2$ -- loss (squared error): how wrong a specific predicted $\\hat{y}$ is\n",
    "* $L$ (or $mse$) $= \\bar{err^2} = \\frac{\\sum(err^2)}{\\mathcal{n}} = \\frac{\\sum(\\hat{y}-y)^2}{\\mathcal{n}}$ -- Loss (mean of the squared errors): how wrong the whole model is\n",
    "\n",
    "###### ^1 Whilst this is valuable to know, as we will not be working with data for the population and only ever a sample, it is unlikely to be seen in use for linear regression"
   ]
  },
  {
   "cell_type": "markdown",
   "metadata": {},
   "source": [
    "1. The first step is to begin by defining how $y = f(x)$ and doing so with a formula"
   ]
  },
  {
   "cell_type": "code",
   "execution_count": 4,
   "metadata": {},
   "outputs": [],
   "source": [
    "def f_rating(x):\n",
    "    return 0.08*x + 0.5"
   ]
  },
  {
   "cell_type": "code",
   "execution_count": 32,
   "metadata": {},
   "outputs": [
    {
     "data": {
      "text/plain": [
       "{0: 0.5, 80: 6.9, 10: 1.3}"
      ]
     },
     "execution_count": 32,
     "metadata": {},
     "output_type": "execute_result"
    }
   ],
   "source": [
    "{\n",
    "    0: f_rating(0), \n",
    "    80: f_rating(80), \n",
    "    10: f_rating(10)}"
   ]
  },
  {
   "cell_type": "markdown",
   "metadata": {},
   "source": [
    "2. In this example, $\\hat{f(x)}$ also needs to be calculated, as we are assuming the previous $f(x)$ is our real and not our predicted -- in future samples there will be a real value of $y$ but when working without one, defining $f$ and $\\hat{f}$ can also be done to enable comparrison"
   ]
  },
  {
   "cell_type": "code",
   "execution_count": 33,
   "metadata": {},
   "outputs": [],
   "source": [
    "def fhat_rating(x):\n",
    "    return 0.07*x + 0.6"
   ]
  },
  {
   "cell_type": "code",
   "execution_count": 34,
   "metadata": {},
   "outputs": [
    {
     "data": {
      "text/plain": [
       "{0: 0.6, 80: 6.2, 10: 1.3}"
      ]
     },
     "execution_count": 34,
     "metadata": {},
     "output_type": "execute_result"
    }
   ],
   "source": [
    "{\n",
    "    0: fhat_rating(0),\n",
    "    80: fhat_rating(80),\n",
    "    10: fhat_rating(10)\n",
    "}"
   ]
  },
  {
   "cell_type": "markdown",
   "metadata": {},
   "source": [
    "3. Now we can begin to calculat a formula for our loss. As $loss$ is just $f(x) - \\hat{f(x)}$ ( or $y - \\hat{y}$ ) this is simple enough"
   ]
  },
  {
   "cell_type": "code",
   "execution_count": 36,
   "metadata": {},
   "outputs": [
    {
     "data": {
      "text/plain": [
       "0.10999999999999943"
      ]
     },
     "execution_count": 36,
     "metadata": {},
     "output_type": "execute_result"
    }
   ],
   "source": [
    "f_rating(21) - fhat_rating(21)"
   ]
  },
  {
   "cell_type": "markdown",
   "metadata": {},
   "source": [
    "4. And naturally from here we can then square it, and then find out the mean of multiple squared errors to caluclate our mean squared error -- our loss function"
   ]
  },
  {
   "cell_type": "code",
   "execution_count": 49,
   "metadata": {},
   "outputs": [],
   "source": [
    "def error(x):\n",
    "    return f_rating(x) - fhat_rating(x)\n"
   ]
  },
  {
   "cell_type": "code",
   "execution_count": 50,
   "metadata": {},
   "outputs": [
    {
     "data": {
      "text/plain": [
       "(0.11,)"
      ]
     },
     "execution_count": 50,
     "metadata": {},
     "output_type": "execute_result"
    }
   ],
   "source": [
    "round(error(21), 3), "
   ]
  },
  {
   "cell_type": "code",
   "execution_count": 51,
   "metadata": {},
   "outputs": [],
   "source": [
    "def loss(x):\n",
    "    return error(x)**2"
   ]
  },
  {
   "cell_type": "code",
   "execution_count": 52,
   "metadata": {},
   "outputs": [
    {
     "data": {
      "text/plain": [
       "0.012"
      ]
     },
     "execution_count": 52,
     "metadata": {},
     "output_type": "execute_result"
    }
   ],
   "source": [
    "round(loss(21), 3)"
   ]
  },
  {
   "cell_type": "markdown",
   "metadata": {},
   "source": [
    "**IT IS SIMPLE TO APPLY THE SAME APPROACH TO READING AND PROCESSING DATA IN A CSV FILE AS WELL**"
   ]
  },
  {
   "cell_type": "markdown",
   "metadata": {},
   "source": [
    "5. Import Pandas and Numpy, have Pandas read the CSV file and then turn it into a Numpy array"
   ]
  },
  {
   "cell_type": "code",
   "execution_count": 132,
   "metadata": {},
   "outputs": [
    {
     "data": {
      "text/plain": [
       "array([[10,  7],\n",
       "       [ 8,  7],\n",
       "       [33,  5],\n",
       "       [84,  8],\n",
       "       [36,  6],\n",
       "       [23,  7],\n",
       "       [12,  3],\n",
       "       [74,  8],\n",
       "       [12, 10],\n",
       "       [47,  2],\n",
       "       [23,  6],\n",
       "       [34,  6],\n",
       "       [23,  8],\n",
       "       [75,  8],\n",
       "       [23,  8],\n",
       "       [21,  2],\n",
       "       [85, 10]], dtype=int64)"
      ]
     },
     "execution_count": 132,
     "metadata": {},
     "output_type": "execute_result"
    }
   ],
   "source": [
    "import pandas as pd\n",
    "import numpy as np\n",
    "movie_age = pd.read_csv(\"./assets/movie_age.csv\")\n",
    "df = pd.DataFrame(movie_age)\n",
    "ndf = df.to_numpy()\n",
    "ndf"
   ]
  },
  {
   "cell_type": "markdown",
   "metadata": {},
   "source": [
    "6. Split the Numpy array so the first column becomes it's own data array: this is our $x$ value, age"
   ]
  },
  {
   "cell_type": "code",
   "execution_count": 133,
   "metadata": {},
   "outputs": [],
   "source": [
    "ageData = ndf[:, 0]"
   ]
  },
  {
   "cell_type": "markdown",
   "metadata": {},
   "source": [
    "7. Create a new array, and for every datum in the age array, use the $\\hat{f(x)}$ from earlier to calculate $\\hat{y}$ - this can then be inserted as a new column to the original Pandas Dataframe"
   ]
  },
  {
   "cell_type": "code",
   "execution_count": 134,
   "metadata": {},
   "outputs": [],
   "source": [
    "loss = []\n",
    "for age in ageData:\n",
    "    loss.append(fhat_rating(age))\n",
    "\n",
    "df.insert(2, \"PredY\", loss, True)"
   ]
  },
  {
   "cell_type": "code",
   "execution_count": 135,
   "metadata": {},
   "outputs": [
    {
     "data": {
      "text/html": [
       "<div>\n",
       "<style scoped>\n",
       "    .dataframe tbody tr th:only-of-type {\n",
       "        vertical-align: middle;\n",
       "    }\n",
       "\n",
       "    .dataframe tbody tr th {\n",
       "        vertical-align: top;\n",
       "    }\n",
       "\n",
       "    .dataframe thead th {\n",
       "        text-align: right;\n",
       "    }\n",
       "</style>\n",
       "<table border=\"1\" class=\"dataframe\">\n",
       "  <thead>\n",
       "    <tr style=\"text-align: right;\">\n",
       "      <th></th>\n",
       "      <th>age</th>\n",
       "      <th>rating</th>\n",
       "      <th>PredY</th>\n",
       "    </tr>\n",
       "  </thead>\n",
       "  <tbody>\n",
       "    <tr>\n",
       "      <th>0</th>\n",
       "      <td>10</td>\n",
       "      <td>7</td>\n",
       "      <td>1.30</td>\n",
       "    </tr>\n",
       "    <tr>\n",
       "      <th>1</th>\n",
       "      <td>8</td>\n",
       "      <td>7</td>\n",
       "      <td>1.16</td>\n",
       "    </tr>\n",
       "    <tr>\n",
       "      <th>2</th>\n",
       "      <td>33</td>\n",
       "      <td>5</td>\n",
       "      <td>2.91</td>\n",
       "    </tr>\n",
       "    <tr>\n",
       "      <th>3</th>\n",
       "      <td>84</td>\n",
       "      <td>8</td>\n",
       "      <td>6.48</td>\n",
       "    </tr>\n",
       "    <tr>\n",
       "      <th>4</th>\n",
       "      <td>36</td>\n",
       "      <td>6</td>\n",
       "      <td>3.12</td>\n",
       "    </tr>\n",
       "    <tr>\n",
       "      <th>5</th>\n",
       "      <td>23</td>\n",
       "      <td>7</td>\n",
       "      <td>2.21</td>\n",
       "    </tr>\n",
       "    <tr>\n",
       "      <th>6</th>\n",
       "      <td>12</td>\n",
       "      <td>3</td>\n",
       "      <td>1.44</td>\n",
       "    </tr>\n",
       "    <tr>\n",
       "      <th>7</th>\n",
       "      <td>74</td>\n",
       "      <td>8</td>\n",
       "      <td>5.78</td>\n",
       "    </tr>\n",
       "    <tr>\n",
       "      <th>8</th>\n",
       "      <td>12</td>\n",
       "      <td>10</td>\n",
       "      <td>1.44</td>\n",
       "    </tr>\n",
       "    <tr>\n",
       "      <th>9</th>\n",
       "      <td>47</td>\n",
       "      <td>2</td>\n",
       "      <td>3.89</td>\n",
       "    </tr>\n",
       "    <tr>\n",
       "      <th>10</th>\n",
       "      <td>23</td>\n",
       "      <td>6</td>\n",
       "      <td>2.21</td>\n",
       "    </tr>\n",
       "    <tr>\n",
       "      <th>11</th>\n",
       "      <td>34</td>\n",
       "      <td>6</td>\n",
       "      <td>2.98</td>\n",
       "    </tr>\n",
       "    <tr>\n",
       "      <th>12</th>\n",
       "      <td>23</td>\n",
       "      <td>8</td>\n",
       "      <td>2.21</td>\n",
       "    </tr>\n",
       "    <tr>\n",
       "      <th>13</th>\n",
       "      <td>75</td>\n",
       "      <td>8</td>\n",
       "      <td>5.85</td>\n",
       "    </tr>\n",
       "    <tr>\n",
       "      <th>14</th>\n",
       "      <td>23</td>\n",
       "      <td>8</td>\n",
       "      <td>2.21</td>\n",
       "    </tr>\n",
       "    <tr>\n",
       "      <th>15</th>\n",
       "      <td>21</td>\n",
       "      <td>2</td>\n",
       "      <td>2.07</td>\n",
       "    </tr>\n",
       "    <tr>\n",
       "      <th>16</th>\n",
       "      <td>85</td>\n",
       "      <td>10</td>\n",
       "      <td>6.55</td>\n",
       "    </tr>\n",
       "  </tbody>\n",
       "</table>\n",
       "</div>"
      ],
      "text/plain": [
       "    age   rating  PredY\n",
       "0    10        7   1.30\n",
       "1     8        7   1.16\n",
       "2    33        5   2.91\n",
       "3    84        8   6.48\n",
       "4    36        6   3.12\n",
       "5    23        7   2.21\n",
       "6    12        3   1.44\n",
       "7    74        8   5.78\n",
       "8    12       10   1.44\n",
       "9    47        2   3.89\n",
       "10   23        6   2.21\n",
       "11   34        6   2.98\n",
       "12   23        8   2.21\n",
       "13   75        8   5.85\n",
       "14   23        8   2.21\n",
       "15   21        2   2.07\n",
       "16   85       10   6.55"
      ]
     },
     "execution_count": 135,
     "metadata": {},
     "output_type": "execute_result"
    }
   ],
   "source": [
    "df"
   ]
  },
  {
   "cell_type": "markdown",
   "metadata": {},
   "source": [
    "8. Now, take the second column from the numpy array - rating. For every value of $y$ subtract the $\\hat{y}$ calculated and square the result to find the square error. We will also add this as a column to our Pandas Dataframe so it is clear what we have done so far"
   ]
  },
  {
   "cell_type": "code",
   "execution_count": 136,
   "metadata": {},
   "outputs": [
    {
     "data": {
      "text/plain": [
       "array([ 7,  7,  5,  8,  6,  7,  3,  8, 10,  2,  6,  6,  8,  8,  8,  2, 10],\n",
       "      dtype=int64)"
      ]
     },
     "execution_count": 136,
     "metadata": {},
     "output_type": "execute_result"
    }
   ],
   "source": [
    "rating = ndf[:, 1]\n",
    "rating"
   ]
  },
  {
   "cell_type": "code",
   "execution_count": 137,
   "metadata": {},
   "outputs": [],
   "source": [
    "sqerror = (rating-loss)**2\n",
    "df.insert(3, \"sqError\", sqerror, True)"
   ]
  },
  {
   "cell_type": "code",
   "execution_count": 138,
   "metadata": {},
   "outputs": [
    {
     "data": {
      "text/html": [
       "<div>\n",
       "<style scoped>\n",
       "    .dataframe tbody tr th:only-of-type {\n",
       "        vertical-align: middle;\n",
       "    }\n",
       "\n",
       "    .dataframe tbody tr th {\n",
       "        vertical-align: top;\n",
       "    }\n",
       "\n",
       "    .dataframe thead th {\n",
       "        text-align: right;\n",
       "    }\n",
       "</style>\n",
       "<table border=\"1\" class=\"dataframe\">\n",
       "  <thead>\n",
       "    <tr style=\"text-align: right;\">\n",
       "      <th></th>\n",
       "      <th>age</th>\n",
       "      <th>rating</th>\n",
       "      <th>PredY</th>\n",
       "      <th>sqError</th>\n",
       "    </tr>\n",
       "  </thead>\n",
       "  <tbody>\n",
       "    <tr>\n",
       "      <th>0</th>\n",
       "      <td>10</td>\n",
       "      <td>7</td>\n",
       "      <td>1.30</td>\n",
       "      <td>32.4900</td>\n",
       "    </tr>\n",
       "    <tr>\n",
       "      <th>1</th>\n",
       "      <td>8</td>\n",
       "      <td>7</td>\n",
       "      <td>1.16</td>\n",
       "      <td>34.1056</td>\n",
       "    </tr>\n",
       "    <tr>\n",
       "      <th>2</th>\n",
       "      <td>33</td>\n",
       "      <td>5</td>\n",
       "      <td>2.91</td>\n",
       "      <td>4.3681</td>\n",
       "    </tr>\n",
       "    <tr>\n",
       "      <th>3</th>\n",
       "      <td>84</td>\n",
       "      <td>8</td>\n",
       "      <td>6.48</td>\n",
       "      <td>2.3104</td>\n",
       "    </tr>\n",
       "    <tr>\n",
       "      <th>4</th>\n",
       "      <td>36</td>\n",
       "      <td>6</td>\n",
       "      <td>3.12</td>\n",
       "      <td>8.2944</td>\n",
       "    </tr>\n",
       "    <tr>\n",
       "      <th>5</th>\n",
       "      <td>23</td>\n",
       "      <td>7</td>\n",
       "      <td>2.21</td>\n",
       "      <td>22.9441</td>\n",
       "    </tr>\n",
       "    <tr>\n",
       "      <th>6</th>\n",
       "      <td>12</td>\n",
       "      <td>3</td>\n",
       "      <td>1.44</td>\n",
       "      <td>2.4336</td>\n",
       "    </tr>\n",
       "    <tr>\n",
       "      <th>7</th>\n",
       "      <td>74</td>\n",
       "      <td>8</td>\n",
       "      <td>5.78</td>\n",
       "      <td>4.9284</td>\n",
       "    </tr>\n",
       "    <tr>\n",
       "      <th>8</th>\n",
       "      <td>12</td>\n",
       "      <td>10</td>\n",
       "      <td>1.44</td>\n",
       "      <td>73.2736</td>\n",
       "    </tr>\n",
       "    <tr>\n",
       "      <th>9</th>\n",
       "      <td>47</td>\n",
       "      <td>2</td>\n",
       "      <td>3.89</td>\n",
       "      <td>3.5721</td>\n",
       "    </tr>\n",
       "    <tr>\n",
       "      <th>10</th>\n",
       "      <td>23</td>\n",
       "      <td>6</td>\n",
       "      <td>2.21</td>\n",
       "      <td>14.3641</td>\n",
       "    </tr>\n",
       "    <tr>\n",
       "      <th>11</th>\n",
       "      <td>34</td>\n",
       "      <td>6</td>\n",
       "      <td>2.98</td>\n",
       "      <td>9.1204</td>\n",
       "    </tr>\n",
       "    <tr>\n",
       "      <th>12</th>\n",
       "      <td>23</td>\n",
       "      <td>8</td>\n",
       "      <td>2.21</td>\n",
       "      <td>33.5241</td>\n",
       "    </tr>\n",
       "    <tr>\n",
       "      <th>13</th>\n",
       "      <td>75</td>\n",
       "      <td>8</td>\n",
       "      <td>5.85</td>\n",
       "      <td>4.6225</td>\n",
       "    </tr>\n",
       "    <tr>\n",
       "      <th>14</th>\n",
       "      <td>23</td>\n",
       "      <td>8</td>\n",
       "      <td>2.21</td>\n",
       "      <td>33.5241</td>\n",
       "    </tr>\n",
       "    <tr>\n",
       "      <th>15</th>\n",
       "      <td>21</td>\n",
       "      <td>2</td>\n",
       "      <td>2.07</td>\n",
       "      <td>0.0049</td>\n",
       "    </tr>\n",
       "    <tr>\n",
       "      <th>16</th>\n",
       "      <td>85</td>\n",
       "      <td>10</td>\n",
       "      <td>6.55</td>\n",
       "      <td>11.9025</td>\n",
       "    </tr>\n",
       "  </tbody>\n",
       "</table>\n",
       "</div>"
      ],
      "text/plain": [
       "    age   rating  PredY  sqError\n",
       "0    10        7   1.30  32.4900\n",
       "1     8        7   1.16  34.1056\n",
       "2    33        5   2.91   4.3681\n",
       "3    84        8   6.48   2.3104\n",
       "4    36        6   3.12   8.2944\n",
       "5    23        7   2.21  22.9441\n",
       "6    12        3   1.44   2.4336\n",
       "7    74        8   5.78   4.9284\n",
       "8    12       10   1.44  73.2736\n",
       "9    47        2   3.89   3.5721\n",
       "10   23        6   2.21  14.3641\n",
       "11   34        6   2.98   9.1204\n",
       "12   23        8   2.21  33.5241\n",
       "13   75        8   5.85   4.6225\n",
       "14   23        8   2.21  33.5241\n",
       "15   21        2   2.07   0.0049\n",
       "16   85       10   6.55  11.9025"
      ]
     },
     "execution_count": 138,
     "metadata": {},
     "output_type": "execute_result"
    }
   ],
   "source": [
    "df"
   ]
  },
  {
   "cell_type": "markdown",
   "metadata": {},
   "source": [
    "9. Finally, we can use the mean function from statistic to calculate the mean of all of our squared errors -- $\\bar{(y-\\hat{y})}$ -- to get our final value of $L$"
   ]
  },
  {
   "cell_type": "code",
   "execution_count": 139,
   "metadata": {},
   "outputs": [
    {
     "data": {
      "text/plain": [
       "17.398994117647057"
      ]
     },
     "execution_count": 139,
     "metadata": {},
     "output_type": "execute_result"
    }
   ],
   "source": [
    "from statistics import *\n",
    "mean(sqerror)"
   ]
  },
  {
   "cell_type": "markdown",
   "metadata": {},
   "source": [
    "*Whilst admitedly this could be done much quicker without python for a small dataset such as this, when working with much larger datasets it makes sense to have a simple script which is capable of processing all the data - and without making errors or getting bored!*"
   ]
  },
  {
   "cell_type": "markdown",
   "metadata": {},
   "source": [
    "### Part Two: Iteration for Loss\n",
    "---\n",
    "*Use of a small sample of training along with previous functions to incorperate a for-loop for loss, demonstrating how simple and effective it is to calculate loss when taking advantage of automation such as iteration*"
   ]
  },
  {
   "cell_type": "markdown",
   "metadata": {},
   "source": [
    "**NOTATIONS FOR PART TWO**\n",
    "* $\\mathcal{D} = \\{X, y \\}$ -- the dataset with $X$ being the features and $y$ the target\n",
    "* $x_1$ -- the first feature\n",
    "* $x_n$ -- the $n^{th}$ feature\n",
    "* $\\mathcal{D}_{train}$ -- the dataset for training\n",
    "* $\\mathcal{D}_{test}$ -- the dataset for testing\n",
    "* $\\mathcal{D} = \\{\\{x_0^0, x_1^0 \\dots x_n^0, y^0\\}, \\{x_0^1, x_1^True, \\dots x_n^True, y^True\\}, \\dots \\{x_0^n, x_True^n, \\dots x_n^n, y^n\\}\\}$ -- the dataset defined by a total $^n$ rows and $_n$ features"
   ]
  },
  {
   "cell_type": "markdown",
   "metadata": {},
   "source": [
    "1. Start by defining the training dataset"
   ]
  },
  {
   "cell_type": "code",
   "execution_count": 155,
   "metadata": {},
   "outputs": [],
   "source": [
    "Dtrain = {\n",
    "    (10, 8.5),\n",
    "    (45, 9.1),\n",
    "    (23, 9.9),\n",
    "    (97, 6.4),\n",
    "    (17, 8.6),\n",
    "    (13, 1.2),\n",
    "    (64, 2.0),\n",
    "    (17, 9.0),\n",
    "    (75, 8.4),\n",
    "    (43, 4.9),\n",
    "    (43, 4.1),\n",
    "    (56, 3.5)\n",
    "}"
   ]
  },
  {
   "cell_type": "markdown",
   "metadata": {},
   "source": [
    "2. We then define our $f(x)$ function : f(x) and our $loss(\\hat{y}, y$ function : loss(yhat, y)"
   ]
  },
  {
   "cell_type": "code",
   "execution_count": 156,
   "metadata": {},
   "outputs": [],
   "source": [
    "def f(x):\n",
    "    return 0.08*x + 0.6"
   ]
  },
  {
   "cell_type": "code",
   "execution_count": 179,
   "metadata": {},
   "outputs": [],
   "source": [
    "def loss(yhat, y):\n",
    "    return (yhat-y)**2"
   ]
  },
  {
   "cell_type": "markdown",
   "metadata": {},
   "source": [
    "3. We can then use a for-loop to run through the data in our dataset, and compute the following\n",
    "    * Calculate $\\hat{y}$ given $x$\n",
    "    * Calculate $loss^2$ given $\\hat{y}$ and $y$\n",
    "    * Add $\\hat{y}$ to the array 'predicted'\n",
    "    * Add $loss^2$ to the array 'sq_error'\n",
    "    * Print out our values for $y$, $\\hat{y}$, and $loss^2$"
   ]
  },
  {
   "cell_type": "code",
   "execution_count": 185,
   "metadata": {},
   "outputs": [
    {
     "name": "stdout",
     "output_type": "stream",
     "text": [
      " y   |   y^  |  loss\n",
      "-----+-------+-------\n",
      "1.4  |  8.5  |  50.41\n",
      "4.0  |  4.9  |  0.74\n",
      "4.0  |  4.1  |  0.004\n",
      "1.6  |  1.2  |  0.194\n",
      "2.4  |  9.9  |  55.652\n",
      "4.2  |  9.1  |  24.01\n",
      "2.0  |  9.0  |  49.562\n",
      "6.6  |  8.4  |  3.24\n",
      "5.1  |  3.5  |  2.496\n",
      "8.4  |  6.4  |  3.842\n",
      "2.0  |  8.6  |  44.09\n",
      "5.7  |  2.0  |  13.838\n"
     ]
    }
   ],
   "source": [
    "predicted = []\n",
    "sq_error = []\n",
    "print(\" y   |   y^  |  loss\")\n",
    "print(\"-----+-------+-------\")\n",
    "for (x, y) in Dtrain:\n",
    "    yhat = f(x)\n",
    "    l = loss(yhat, y)\n",
    "    predicted.append(yhat)\n",
    "    sq_error.append(l)\n",
    "    print(round(yhat, 1), \" | \", y, \" | \", round(l, 3))"
   ]
  },
  {
   "cell_type": "code",
   "execution_count": 186,
   "metadata": {},
   "outputs": [
    {
     "name": "stdout",
     "output_type": "stream",
     "text": [
      "[1.4, 4.04, 4.04, 1.6400000000000001, 2.44, 4.2, 1.96, 6.6, 5.08, 8.36, 1.96, 5.72] \n",
      "\n",
      " [50.41, 0.7396000000000006, 0.003599999999999953, 0.19360000000000016, 55.651600000000016, 24.009999999999994, 49.5616, 3.2400000000000024, 2.4964000000000004, 3.8415999999999966, 44.0896, 13.838399999999998]\n"
     ]
    }
   ],
   "source": [
    "print(predicted, \"\\n\\n\", sq_error)"
   ]
  },
  {
   "cell_type": "markdown",
   "metadata": {},
   "source": [
    "4. By applying this same logic to the CSV from earlier, it quickly becomes apparent how this saves even more time with calcualting our predictions and loss values, as show below:"
   ]
  },
  {
   "cell_type": "code",
   "execution_count": 193,
   "metadata": {},
   "outputs": [
    {
     "data": {
      "text/html": [
       "<div>\n",
       "<style scoped>\n",
       "    .dataframe tbody tr th:only-of-type {\n",
       "        vertical-align: middle;\n",
       "    }\n",
       "\n",
       "    .dataframe tbody tr th {\n",
       "        vertical-align: top;\n",
       "    }\n",
       "\n",
       "    .dataframe thead th {\n",
       "        text-align: right;\n",
       "    }\n",
       "</style>\n",
       "<table border=\"1\" class=\"dataframe\">\n",
       "  <thead>\n",
       "    <tr style=\"text-align: right;\">\n",
       "      <th></th>\n",
       "      <th>x</th>\n",
       "      <th>y</th>\n",
       "      <th>yhat</th>\n",
       "      <th>squared_error</th>\n",
       "    </tr>\n",
       "  </thead>\n",
       "  <tbody>\n",
       "    <tr>\n",
       "      <th>0</th>\n",
       "      <td>10</td>\n",
       "      <td>8.5</td>\n",
       "      <td>1.40</td>\n",
       "      <td>50.4100</td>\n",
       "    </tr>\n",
       "    <tr>\n",
       "      <th>1</th>\n",
       "      <td>43</td>\n",
       "      <td>4.9</td>\n",
       "      <td>4.04</td>\n",
       "      <td>0.7396</td>\n",
       "    </tr>\n",
       "    <tr>\n",
       "      <th>2</th>\n",
       "      <td>43</td>\n",
       "      <td>4.1</td>\n",
       "      <td>4.04</td>\n",
       "      <td>0.0036</td>\n",
       "    </tr>\n",
       "    <tr>\n",
       "      <th>3</th>\n",
       "      <td>13</td>\n",
       "      <td>1.2</td>\n",
       "      <td>1.64</td>\n",
       "      <td>0.1936</td>\n",
       "    </tr>\n",
       "    <tr>\n",
       "      <th>4</th>\n",
       "      <td>23</td>\n",
       "      <td>9.9</td>\n",
       "      <td>2.44</td>\n",
       "      <td>55.6516</td>\n",
       "    </tr>\n",
       "    <tr>\n",
       "      <th>5</th>\n",
       "      <td>45</td>\n",
       "      <td>9.1</td>\n",
       "      <td>4.20</td>\n",
       "      <td>24.0100</td>\n",
       "    </tr>\n",
       "    <tr>\n",
       "      <th>6</th>\n",
       "      <td>17</td>\n",
       "      <td>9.0</td>\n",
       "      <td>1.96</td>\n",
       "      <td>49.5616</td>\n",
       "    </tr>\n",
       "    <tr>\n",
       "      <th>7</th>\n",
       "      <td>75</td>\n",
       "      <td>8.4</td>\n",
       "      <td>6.60</td>\n",
       "      <td>3.2400</td>\n",
       "    </tr>\n",
       "    <tr>\n",
       "      <th>8</th>\n",
       "      <td>56</td>\n",
       "      <td>3.5</td>\n",
       "      <td>5.08</td>\n",
       "      <td>2.4964</td>\n",
       "    </tr>\n",
       "    <tr>\n",
       "      <th>9</th>\n",
       "      <td>97</td>\n",
       "      <td>6.4</td>\n",
       "      <td>8.36</td>\n",
       "      <td>3.8416</td>\n",
       "    </tr>\n",
       "    <tr>\n",
       "      <th>10</th>\n",
       "      <td>17</td>\n",
       "      <td>8.6</td>\n",
       "      <td>1.96</td>\n",
       "      <td>44.0896</td>\n",
       "    </tr>\n",
       "    <tr>\n",
       "      <th>11</th>\n",
       "      <td>64</td>\n",
       "      <td>2.0</td>\n",
       "      <td>5.72</td>\n",
       "      <td>13.8384</td>\n",
       "    </tr>\n",
       "  </tbody>\n",
       "</table>\n",
       "</div>"
      ],
      "text/plain": [
       "     x    y  yhat  squared_error\n",
       "0   10  8.5  1.40        50.4100\n",
       "1   43  4.9  4.04         0.7396\n",
       "2   43  4.1  4.04         0.0036\n",
       "3   13  1.2  1.64         0.1936\n",
       "4   23  9.9  2.44        55.6516\n",
       "5   45  9.1  4.20        24.0100\n",
       "6   17  9.0  1.96        49.5616\n",
       "7   75  8.4  6.60         3.2400\n",
       "8   56  3.5  5.08         2.4964\n",
       "9   97  6.4  8.36         3.8416\n",
       "10  17  8.6  1.96        44.0896\n",
       "11  64  2.0  5.72        13.8384"
      ]
     },
     "execution_count": 193,
     "metadata": {},
     "output_type": "execute_result"
    }
   ],
   "source": [
    "import pandas as pd\n",
    "import numpy as np\n",
    "Dframe = pd.DataFrame(pd.read_csv(\"./assets/movie_age.csv\"))\n",
    "Darray = Dframe.to_numpy()\n",
    "x_csv = []\n",
    "y_csv = []\n",
    "predicted_csv = []\n",
    "sq_error_csv = []\n",
    "\n",
    "for (x, y) in Darray:\n",
    "    x_csv.append(x)\n",
    "    y_csv.append(y)\n",
    "    yhat = f(x)\n",
    "    l = loss(yhat, y)\n",
    "    predicted_csv.append(yhat)\n",
    "    sq_error_csv.append(l)\n",
    "    \n",
    "Dataset = pd.DataFrame({\"x\": x_csv, \"y\": y_csv, \"yhat\": predicted_csv, \"squared_error\": sq_error_csv})\n",
    "Dataset"
   ]
  },
  {
   "cell_type": "markdown",
   "metadata": {},
   "source": [
    "### Part Three: Regression and Classification\n",
    "---\n",
    "*Whilst regression requires y be a real integer, classification focuses on either binary outcomes (e.g., 0 and 1; -1 and 1) and multiclass (blonde, brunnete, ginger). These can also be computed in python, although any non-numerical catergories will need to be dummy-coded with numbers for computational purposes*"
   ]
  },
  {
   "cell_type": "markdown",
   "metadata": {},
   "source": [
    "**NOTATIONS FOR PART THREE**\n",
    "\n",
    "* $ y \\in \\mathbb{R}$ -- regression outcome; $y$ is a real number\n",
    "* $y \\in \\{ -1, +1 \\}$ -- binary classification outcome; $y$ can be of two options\n",
    "* $y \\in \\{a_{lpha}, b_{ravo}, c_{harlie} \\dots \\}$ - multiclass outcome; $y$ can be of many options"
   ]
  },
  {
   "cell_type": "markdown",
   "metadata": {},
   "source": [
    "1. We start by defining our function of x ( $f(x)$ ) as we have done previously. This time, however, rather than running a linear equation to calculate our $\\hat{y}$ a simple if/else statement can be used. For example, if 1 = like, -1 = dislike, and $x$ is a movie's length, we could create a function as follows:"
   ]
  },
  {
   "cell_type": "code",
   "execution_count": 206,
   "metadata": {},
   "outputs": [],
   "source": [
    "def classify(x):\n",
    "    if x > 200:\n",
    "        return -1\n",
    "    else:\n",
    "        return +1"
   ]
  },
  {
   "cell_type": "code",
   "execution_count": 207,
   "metadata": {},
   "outputs": [
    {
     "data": {
      "text/plain": [
       "1"
      ]
     },
     "execution_count": 207,
     "metadata": {},
     "output_type": "execute_result"
    }
   ],
   "source": [
    "classify(180)"
   ]
  },
  {
   "cell_type": "markdown",
   "metadata": {},
   "source": [
    "2. We can even use dictionaries to de-code our dummy variables and return the actual category"
   ]
  },
  {
   "cell_type": "code",
   "execution_count": 208,
   "metadata": {},
   "outputs": [],
   "source": [
    "decode = {\n",
    "    1: \"like\",\n",
    "    -1: \"dislike\"\n",
    "}"
   ]
  },
  {
   "cell_type": "code",
   "execution_count": 209,
   "metadata": {},
   "outputs": [],
   "source": [
    "def classify(x):\n",
    "    if x > 200:\n",
    "        yhat = -1\n",
    "        return decode[yhat]\n",
    "    else:\n",
    "        yhat = 1\n",
    "        return decode[yhat]"
   ]
  },
  {
   "cell_type": "code",
   "execution_count": 210,
   "metadata": {},
   "outputs": [
    {
     "data": {
      "text/plain": [
       "('dislike', 'like', 'like')"
      ]
     },
     "execution_count": 210,
     "metadata": {},
     "output_type": "execute_result"
    }
   ],
   "source": [
    "classify(209), classify(158), classify(92)"
   ]
  },
  {
   "cell_type": "markdown",
   "metadata": {},
   "source": [
    "### Part Four: Summary and Machine Learning Setup in Python\n",
    "---\n",
    "*Ensuring familiarity with previous topics, as well as setting the groundwork for exploring further machine leaning setup within python prior to exploring more complex tasks and algorythms*"
   ]
  },
  {
   "cell_type": "markdown",
   "metadata": {},
   "source": [
    "**SET NOTATIONS FOR DIFFERENT TYPES OF PROBLEM**\n",
    "* $ y \\in \\mathbb{R}$ -- regression outcome: $x$ is in the set of all real numbers\n",
    "* $y \\in \\{ -1, +1 \\}$ -- binary classification outcome: $x$ is in the set of {$-1, 1$}\n",
    "* $y \\in \\{a, b, c \\dots \\}$ - multiclass outcome: $x$ is in the set of {$a$, $b$, $c$, $\\dots$}"
   ]
  },
  {
   "cell_type": "markdown",
   "metadata": {},
   "source": [
    "$\\mathcal{Task}$ $\\mathcal{One}$\n",
    "\n",
    "*Given the age of a viewer and the length of a film, predict if the viewer will like or dislike the film*"
   ]
  },
  {
   "cell_type": "markdown",
   "metadata": {},
   "source": [
    "1. Start by creating the training dataset and defining your f(x) and loss(yhat, y) functions*\n",
    "\n",
    "###### *normally, you would calculate a regression function, and this will be explored later: for now, simply make one up of your choosing"
   ]
  },
  {
   "cell_type": "code",
   "execution_count": 427,
   "metadata": {},
   "outputs": [],
   "source": [
    "Dtrain = {\n",
    "    'Age': [54,72,36,45,32,6,85,2,16,48,42,32,36,1,92,12,8,43,58,10],\n",
    "    'Length': [87,160,250,132,184,96,234,216,190,87,145,69,152,167,273,97,164,189,151,163],\n",
    "    'Liked': [1,1,1,-1,-1,1,-1,-1,1,1,-1,1,1,1,-1,-1,-1,1,1,-1]\n",
    "}\n",
    "\n",
    "x1 = Dtrain['Age']\n",
    "x2 = Dtrain['Length']\n",
    "y = Dtrain['Liked']"
   ]
  },
  {
   "cell_type": "code",
   "execution_count": 394,
   "metadata": {},
   "outputs": [],
   "source": [
    "def f(x1, x2):\n",
    "    if 2*(x1 - 40) + (x2-135) > 0:\n",
    "        return 1\n",
    "    else: \n",
    "        return-1"
   ]
  },
  {
   "cell_type": "code",
   "execution_count": 429,
   "metadata": {},
   "outputs": [],
   "source": [
    "def err(yh, y):\n",
    "    if yh - y != 0:\n",
    "        return 1\n",
    "    else: \n",
    "        return yh-y"
   ]
  },
  {
   "cell_type": "markdown",
   "metadata": {},
   "source": [
    "2. Create a for-loop to run throught the dataset computing preditions and loss for each value. Save these to a pandas Dataframe for the sake of visual ease"
   ]
  },
  {
   "cell_type": "code",
   "execution_count": 430,
   "metadata": {},
   "outputs": [],
   "source": [
    "predictions = []\n",
    "squared_error = []\n",
    "actual = []\n",
    "for age, length, liked in zip(x1, x2, y):\n",
    "    actual.append(liked)\n",
    "    yh = f(age, length)\n",
    "    predictions.append(yh)\n",
    "    error = err(liked, yh)\n",
    "    squared_error.append(error)"
   ]
  },
  {
   "cell_type": "code",
   "execution_count": 397,
   "metadata": {},
   "outputs": [
    {
     "data": {
      "text/html": [
       "<div>\n",
       "<style scoped>\n",
       "    .dataframe tbody tr th:only-of-type {\n",
       "        vertical-align: middle;\n",
       "    }\n",
       "\n",
       "    .dataframe tbody tr th {\n",
       "        vertical-align: top;\n",
       "    }\n",
       "\n",
       "    .dataframe thead th {\n",
       "        text-align: right;\n",
       "    }\n",
       "</style>\n",
       "<table border=\"1\" class=\"dataframe\">\n",
       "  <thead>\n",
       "    <tr style=\"text-align: right;\">\n",
       "      <th></th>\n",
       "      <th>age</th>\n",
       "      <th>length</th>\n",
       "      <th>liked</th>\n",
       "      <th>y^</th>\n",
       "      <th>e^2</th>\n",
       "    </tr>\n",
       "  </thead>\n",
       "  <tbody>\n",
       "    <tr>\n",
       "      <th>0</th>\n",
       "      <td>54</td>\n",
       "      <td>87</td>\n",
       "      <td>1</td>\n",
       "      <td>-1</td>\n",
       "      <td>1</td>\n",
       "    </tr>\n",
       "    <tr>\n",
       "      <th>1</th>\n",
       "      <td>72</td>\n",
       "      <td>160</td>\n",
       "      <td>1</td>\n",
       "      <td>1</td>\n",
       "      <td>0</td>\n",
       "    </tr>\n",
       "    <tr>\n",
       "      <th>2</th>\n",
       "      <td>36</td>\n",
       "      <td>250</td>\n",
       "      <td>1</td>\n",
       "      <td>1</td>\n",
       "      <td>0</td>\n",
       "    </tr>\n",
       "    <tr>\n",
       "      <th>3</th>\n",
       "      <td>45</td>\n",
       "      <td>132</td>\n",
       "      <td>-1</td>\n",
       "      <td>1</td>\n",
       "      <td>1</td>\n",
       "    </tr>\n",
       "    <tr>\n",
       "      <th>4</th>\n",
       "      <td>32</td>\n",
       "      <td>184</td>\n",
       "      <td>-1</td>\n",
       "      <td>1</td>\n",
       "      <td>1</td>\n",
       "    </tr>\n",
       "    <tr>\n",
       "      <th>5</th>\n",
       "      <td>6</td>\n",
       "      <td>96</td>\n",
       "      <td>1</td>\n",
       "      <td>-1</td>\n",
       "      <td>1</td>\n",
       "    </tr>\n",
       "    <tr>\n",
       "      <th>6</th>\n",
       "      <td>85</td>\n",
       "      <td>234</td>\n",
       "      <td>-1</td>\n",
       "      <td>1</td>\n",
       "      <td>1</td>\n",
       "    </tr>\n",
       "    <tr>\n",
       "      <th>7</th>\n",
       "      <td>2</td>\n",
       "      <td>216</td>\n",
       "      <td>-1</td>\n",
       "      <td>1</td>\n",
       "      <td>1</td>\n",
       "    </tr>\n",
       "    <tr>\n",
       "      <th>8</th>\n",
       "      <td>16</td>\n",
       "      <td>190</td>\n",
       "      <td>1</td>\n",
       "      <td>1</td>\n",
       "      <td>0</td>\n",
       "    </tr>\n",
       "    <tr>\n",
       "      <th>9</th>\n",
       "      <td>48</td>\n",
       "      <td>87</td>\n",
       "      <td>1</td>\n",
       "      <td>-1</td>\n",
       "      <td>1</td>\n",
       "    </tr>\n",
       "    <tr>\n",
       "      <th>10</th>\n",
       "      <td>42</td>\n",
       "      <td>145</td>\n",
       "      <td>-1</td>\n",
       "      <td>1</td>\n",
       "      <td>1</td>\n",
       "    </tr>\n",
       "    <tr>\n",
       "      <th>11</th>\n",
       "      <td>32</td>\n",
       "      <td>69</td>\n",
       "      <td>1</td>\n",
       "      <td>-1</td>\n",
       "      <td>1</td>\n",
       "    </tr>\n",
       "    <tr>\n",
       "      <th>12</th>\n",
       "      <td>36</td>\n",
       "      <td>152</td>\n",
       "      <td>1</td>\n",
       "      <td>1</td>\n",
       "      <td>0</td>\n",
       "    </tr>\n",
       "    <tr>\n",
       "      <th>13</th>\n",
       "      <td>1</td>\n",
       "      <td>167</td>\n",
       "      <td>1</td>\n",
       "      <td>-1</td>\n",
       "      <td>1</td>\n",
       "    </tr>\n",
       "    <tr>\n",
       "      <th>14</th>\n",
       "      <td>92</td>\n",
       "      <td>273</td>\n",
       "      <td>-1</td>\n",
       "      <td>1</td>\n",
       "      <td>1</td>\n",
       "    </tr>\n",
       "    <tr>\n",
       "      <th>15</th>\n",
       "      <td>12</td>\n",
       "      <td>97</td>\n",
       "      <td>-1</td>\n",
       "      <td>-1</td>\n",
       "      <td>0</td>\n",
       "    </tr>\n",
       "    <tr>\n",
       "      <th>16</th>\n",
       "      <td>8</td>\n",
       "      <td>164</td>\n",
       "      <td>-1</td>\n",
       "      <td>-1</td>\n",
       "      <td>0</td>\n",
       "    </tr>\n",
       "    <tr>\n",
       "      <th>17</th>\n",
       "      <td>43</td>\n",
       "      <td>189</td>\n",
       "      <td>1</td>\n",
       "      <td>1</td>\n",
       "      <td>0</td>\n",
       "    </tr>\n",
       "    <tr>\n",
       "      <th>18</th>\n",
       "      <td>58</td>\n",
       "      <td>151</td>\n",
       "      <td>1</td>\n",
       "      <td>1</td>\n",
       "      <td>0</td>\n",
       "    </tr>\n",
       "    <tr>\n",
       "      <th>19</th>\n",
       "      <td>10</td>\n",
       "      <td>163</td>\n",
       "      <td>-1</td>\n",
       "      <td>-1</td>\n",
       "      <td>0</td>\n",
       "    </tr>\n",
       "  </tbody>\n",
       "</table>\n",
       "</div>"
      ],
      "text/plain": [
       "    age  length  liked  y^  e^2\n",
       "0    54      87      1  -1    1\n",
       "1    72     160      1   1    0\n",
       "2    36     250      1   1    0\n",
       "3    45     132     -1   1    1\n",
       "4    32     184     -1   1    1\n",
       "5     6      96      1  -1    1\n",
       "6    85     234     -1   1    1\n",
       "7     2     216     -1   1    1\n",
       "8    16     190      1   1    0\n",
       "9    48      87      1  -1    1\n",
       "10   42     145     -1   1    1\n",
       "11   32      69      1  -1    1\n",
       "12   36     152      1   1    0\n",
       "13    1     167      1  -1    1\n",
       "14   92     273     -1   1    1\n",
       "15   12      97     -1  -1    0\n",
       "16    8     164     -1  -1    0\n",
       "17   43     189      1   1    0\n",
       "18   58     151      1   1    0\n",
       "19   10     163     -1  -1    0"
      ]
     },
     "execution_count": 397,
     "metadata": {},
     "output_type": "execute_result"
    }
   ],
   "source": [
    "D = pd.DataFrame({\"age\": x1, \"length\": x2, \"liked\": y, \"y^\": predictions, \"e^2\": squared_error})\n",
    "D"
   ]
  },
  {
   "cell_type": "code",
   "execution_count": 398,
   "metadata": {},
   "outputs": [
    {
     "name": "stdout",
     "output_type": "stream",
     "text": [
      "0.55\n"
     ]
    }
   ],
   "source": [
    "from statistics import *\n",
    "mse = mean(squared_error)\n",
    "\n",
    "print(mse)"
   ]
  },
  {
   "cell_type": "markdown",
   "metadata": {},
   "source": [
    "3. Now we've calculated a $mse$ of 0.55 we can see that we are really far out with our formula! As a result, we want to start to tweak it slightly, and see if we can get that error closer to zero"
   ]
  },
  {
   "cell_type": "code",
   "execution_count": 434,
   "metadata": {},
   "outputs": [],
   "source": [
    "def f(x1, x2):\n",
    "    if (x1**2) + (x2-1) > 0:\n",
    "        return 1\n",
    "    else: \n",
    "        return-1"
   ]
  },
  {
   "cell_type": "code",
   "execution_count": 435,
   "metadata": {},
   "outputs": [],
   "source": [
    "from statistics import *\n",
    "import pandas as pd\n",
    "\n",
    "def err(yh, y):\n",
    "    if yh - y != 0:\n",
    "        return 1\n",
    "    else: \n",
    "        return yh-y\n",
    "\n",
    "predictions = []\n",
    "squared_error = []\n",
    "actual = []\n",
    "for age, length, liked in zip(x1, x2, y):\n",
    "    actual.append(liked)\n",
    "    yh = f(age, length)\n",
    "    predictions.append(yh)\n",
    "    error = err(liked, yh)\n",
    "    squared_error.append(error)"
   ]
  },
  {
   "cell_type": "code",
   "execution_count": 436,
   "metadata": {},
   "outputs": [
    {
     "data": {
      "text/plain": [
       "0.55"
      ]
     },
     "execution_count": 436,
     "metadata": {},
     "output_type": "execute_result"
    }
   ],
   "source": [
    "mse2 = mean(squared_error)\n",
    "mse"
   ]
  },
  {
   "cell_type": "markdown",
   "metadata": {},
   "source": [
    "4. Even after trying some pretty drastic changes, there doesn't seem to be any signficant impact on our mse. This suggests either:\n",
    "* There is no real relationship between age, length of film, and enjoyment within our sample\n",
    "* There is a relationship, but it's not linear, and we'd need to use a different approach to figure it out"
   ]
  },
  {
   "cell_type": "markdown",
   "metadata": {},
   "source": [
    "### Appendix: Formulae and Notation\n",
    "##### $all$ $notations$ $used$ $in$ $this$ $module$ $are$ $detailed$ $below$"
   ]
  },
  {
   "cell_type": "markdown",
   "metadata": {},
   "source": [
    "**NOTATIONS FOR INPUT DATA**\n",
    "\n",
    "* $x$ -- feature\n",
    "* $X$ -- features\n",
    "* $y$ -- target\n",
    "* $\\mathcal{n}$ -- the total number of datapoints in a sample\n",
    "* $\\hat{y}$ -- predicted $y$"
   ]
  },
  {
   "cell_type": "markdown",
   "metadata": {},
   "source": [
    "**NOTATIONS FOR FUNCTIONS OF X**\n",
    "\n",
    "* $f(x)$ -- the function of x (in respect to y): relationship between $y$ and $x$\n",
    "* $\\hat{f}(x)$ -- the predicted function of x (in respect to y): predicted relationship btween $y$ and $x$"
   ]
  },
  {
   "cell_type": "markdown",
   "metadata": {},
   "source": [
    "**NOTATIONS FOR FORMULAE**\n",
    "\n",
    "* *error ($err$)* => * $(\\hat{y} - y)$ -- distance between predicted y and actual y\n",
    "* *squared error ($err^2$) / loss ($loss$)* => $(\\hat{y}, y)^2$ -- how wrong a specific predicted $\\hat{y}$ is\n",
    "* *mean squared error ($mse$) / Loss ($L$)* => $\\bar{err^2} = \\frac{\\sum(err^2)}{\\mathcal{n}} = \\frac{\\sum(\\hat{y}-y)^2}{\\mathcal{n}}$ -- how wrong the whole model is"
   ]
  },
  {
   "cell_type": "markdown",
   "metadata": {},
   "source": [
    "**NOTATIONS FOR DATASETS**\n",
    "* $\\mathcal{D} = \\{X, y \\}$ -- the dataset\n",
    "* $\\mathcal{D}_{train}$ -- the dataset for training\n",
    "* $\\mathcal{D}_{test}$ -- the dataset for testing\n",
    "* $x_0$ -- the first feature: $x$ at index 0\n",
    "* $x_n$ -- the $n^{th}$ feature: $x$ at index $\\mathcal{n}$\n",
    "\n",
    "*nb: below are detailed formula for $\\mathcal{D}$ where each feature ($x$) is denoted as $x_a^b$:*\n",
    "* $x_n$ = the $n^{th}$ feature (column) in the dataset\n",
    "* $x^n$ = the $n^{th}$ instance (row) in the dataset\n",
    "* $\\mathcal{D} = \\{\\{ x_0^0, x_1^0, \\dots x_0^n, y_0 \\}, \\{ x_1^0, x_1^1, \\dots x_1^n, y_1 \\}, \\dots \\{ x_0^n, x_1^n, \\dots x_n^n, y_n \\} \\}$"
   ]
  },
  {
   "cell_type": "markdown",
   "metadata": {},
   "source": [
    "**SET NOTATIONS FOR DIFFERENT TYPES OF PROBLEM**\n",
    "* $ y \\in \\mathbb{R}$ -- regression outcome: $x$ is in the set of all real numbers\n",
    "* $y \\in \\{ -1, +1 \\}$ -- binary classification outcome: $x$ is in the set of {$-1, 1$}\n",
    "* $y \\in \\{a, b, c \\dots \\}$ - multiclass outcome: $x$ is in the set of {$a$, $b$, $c$, $\\dots$}"
   ]
  }
 ],
 "metadata": {
  "kernelspec": {
   "display_name": "Python 3.10.6 64-bit (windows store)",
   "language": "python",
   "name": "python3"
  },
  "language_info": {
   "codemirror_mode": {
    "name": "ipython",
    "version": 3
   },
   "file_extension": ".py",
   "mimetype": "text/x-python",
   "name": "python",
   "nbconvert_exporter": "python",
   "pygments_lexer": "ipython3",
   "version": "3.10.6"
  },
  "orig_nbformat": 4,
  "vscode": {
   "interpreter": {
    "hash": "a6d97792ffd1c5ce8a3c574cdb9c16979d479e9e4b529749f2388743ff096d87"
   }
  }
 },
 "nbformat": 4,
 "nbformat_minor": 2
}
