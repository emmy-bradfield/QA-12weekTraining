{
 "cells": [
  {
   "cell_type": "code",
   "execution_count": 3,
   "metadata": {},
   "outputs": [
    {
     "data": {
      "text/html": [
       "<img style=\"width:True00%\" src=\"./assets/head.jpg\"><h1 style=\"text-align:center\">Module 2: Maths for Machine Learning</h1><h1 style=\"text-align:center;\"><em>The Core Components</em></h1>"
      ],
      "text/plain": [
       "<IPython.core.display.HTML object>"
      ]
     },
     "metadata": {},
     "output_type": "display_data"
    }
   ],
   "source": [
    "from IPython.display import display, HTML\n",
    "display(HTML('<img style=\"width:True00%\" src=\"./assets/head.jpg\"><h1 style=\"text-align:center\">Module 2: Maths for Machine Learning</h1><h1 style=\"text-align:center;\"><em>The Core Components</em></h1>'))"
   ]
  },
  {
   "cell_type": "markdown",
   "metadata": {},
   "source": [
    "### Part One: Introduction and Common Functions\n",
    "---\n",
    "*Statistics, Calculus, and Linear Algebra all play core parts in machine learning, being data analysis, higher dimensionl data, and measures of change respectively. A good understanding of these three areas on top of basic mathematics is key to exploring and understanding machine learning*"
   ]
  },
  {
   "cell_type": "markdown",
   "metadata": {},
   "source": [
    "**COMMON ALGEBRAIC FUNCTIONS**\n",
    "\n",
    "##### $f(x) = ax +b$\n",
    "* Simple, linear function\n",
    "* $a$ and $b$ represent the parameters, or weights\n",
    "* Always plotted as a straight-line graph\n",
    "* ML aims to find the optimal parameters to explain the relationship \n",
    "* Loss is simply represented as the difference between the $f(x)$ and the actual\n"
   ]
  }
 ],
 "metadata": {
  "kernelspec": {
   "display_name": "Python 3.10.6 64-bit (windows store)",
   "language": "python",
   "name": "python3"
  },
  "language_info": {
   "codemirror_mode": {
    "name": "ipython",
    "version": 3
   },
   "file_extension": ".py",
   "mimetype": "text/x-python",
   "name": "python",
   "nbconvert_exporter": "python",
   "pygments_lexer": "ipython3",
   "version": "3.10.6"
  },
  "orig_nbformat": 4,
  "vscode": {
   "interpreter": {
    "hash": "a6d97792ffd1c5ce8a3c574cdb9c16979d479e9e4b529749f2388743ff096d87"
   }
  }
 },
 "nbformat": 4,
 "nbformat_minor": 2
}
