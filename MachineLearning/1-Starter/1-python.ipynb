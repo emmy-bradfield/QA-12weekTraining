{
 "cells": [
  {
   "cell_type": "code",
   "execution_count": 143,
   "metadata": {},
   "outputs": [
    {
     "name": "stderr",
     "output_type": "stream",
     "text": [
      "C:\\Users\\EmmyB.000\\AppData\\Local\\Temp\\ipykernel_14304\\45631926.py:1: DeprecationWarning: Importing display from IPython.core.display is deprecated since IPython 7.14, please import from IPython display\n",
      "  from IPython.core.display import display, HTML\n"
     ]
    },
    {
     "data": {
      "text/html": [
       "<img style=\"width:100%\" src=\"./assets/head.jpg\"><h1 style=\"text-align:center\">Module 1: Python for Machine Learning</h1><h1 style=\"text-align:center;\"><em>Linear Regression</em></h1>"
      ],
      "text/plain": [
       "<IPython.core.display.HTML object>"
      ]
     },
     "metadata": {},
     "output_type": "display_data"
    }
   ],
   "source": [
    "from IPython.core.display import display, HTML\n",
    "display(HTML('<img style=\"width:100%\" src=\"./assets/head.jpg\"><h1 style=\"text-align:center\">Module 1: Python for Machine Learning</h1><h1 style=\"text-align:center;\"><em>Linear Regression</em></h1>'))"
   ]
  },
  {
   "cell_type": "markdown",
   "metadata": {},
   "source": [
    "#### The Supervised Machine Learning Structure:\n",
    "*assumptions and definitions of regression and supervised machine learning*\n",
    "\n",
    "* $y$ -- target\n",
    "* $x$ -- feature\n",
    "* $X$ -- features\n",
    "* $y = f(x)$ -- relationship\n",
    "* $\\hat{y}$ -- predicted $y$\n",
    "* $\\hat{f(x)}$ -- predicted relationship\n",
    "* $y \\in \\mathbb{R}$ -- y is a real number"
   ]
  },
  {
   "cell_type": "markdown",
   "metadata": {},
   "source": [
    "#### Example Problem:\n",
    "If $y$ : rating of a film, and $x$ : age of viewer, use linear regression to explore the relationship between a viewers age and how highly they rate the film\n",
    "\n",
    "\n",
    "Let's say that the function of y given x ($y = f(x)$) is tested as $0.08x + 0.5$"
   ]
  },
  {
   "cell_type": "code",
   "execution_count": 4,
   "metadata": {},
   "outputs": [],
   "source": [
    "def f_rating(x):\n",
    "    return 0.08*x + 0.5"
   ]
  },
  {
   "cell_type": "code",
   "execution_count": 32,
   "metadata": {},
   "outputs": [
    {
     "data": {
      "text/plain": [
       "{0: 0.5, 80: 6.9, 10: 1.3}"
      ]
     },
     "execution_count": 32,
     "metadata": {},
     "output_type": "execute_result"
    }
   ],
   "source": [
    "{\n",
    "    0: f_rating(0), \n",
    "    80: f_rating(80), \n",
    "    10: f_rating(10)}"
   ]
  },
  {
   "cell_type": "markdown",
   "metadata": {},
   "source": [
    "defining our function means we can now say that $y = f_rating(x)$\n",
    "\n",
    "from here we can also define our function for $\\hat{f}$"
   ]
  },
  {
   "cell_type": "code",
   "execution_count": 33,
   "metadata": {},
   "outputs": [],
   "source": [
    "def fhat_rating(x):\n",
    "    return 0.07*x + 0.6"
   ]
  },
  {
   "cell_type": "code",
   "execution_count": 34,
   "metadata": {},
   "outputs": [
    {
     "data": {
      "text/plain": [
       "{0: 0.6, 80: 6.2, 10: 1.3}"
      ]
     },
     "execution_count": 34,
     "metadata": {},
     "output_type": "execute_result"
    }
   ],
   "source": [
    "{\n",
    "    0: fhat_rating(0),\n",
    "    80: fhat_rating(80),\n",
    "    10: fhat_rating(10)\n",
    "}"
   ]
  },
  {
   "cell_type": "markdown",
   "metadata": {},
   "source": [
    "To calculate our error, we can simply do $f$ rating - $\\hat{f}$ rating for any given value of $x$"
   ]
  },
  {
   "cell_type": "code",
   "execution_count": 36,
   "metadata": {},
   "outputs": [
    {
     "data": {
      "text/plain": [
       "0.10999999999999943"
      ]
     },
     "execution_count": 36,
     "metadata": {},
     "output_type": "execute_result"
    }
   ],
   "source": [
    "f_rating(21) - fhat_rating(21)"
   ]
  },
  {
   "cell_type": "markdown",
   "metadata": {},
   "source": [
    "And naturally from here we can then square it, and then find out the mean of multiple squared errors to caluclate our mean squared error -- our loss function\n",
    "\n",
    "$loss = \\sum(\\hat{y}, y)$ -- how incorrect a given point is\n",
    "\n",
    "$L = \\sum(\\bar{\\hat{y}-y)^2}$ -- how incorrect the entire model is"
   ]
  },
  {
   "cell_type": "code",
   "execution_count": 49,
   "metadata": {},
   "outputs": [],
   "source": [
    "def error(x):\n",
    "    return f_rating(x) - fhat_rating(x)\n"
   ]
  },
  {
   "cell_type": "code",
   "execution_count": 50,
   "metadata": {},
   "outputs": [
    {
     "data": {
      "text/plain": [
       "(0.11,)"
      ]
     },
     "execution_count": 50,
     "metadata": {},
     "output_type": "execute_result"
    }
   ],
   "source": [
    "round(error(21), 3), "
   ]
  },
  {
   "cell_type": "code",
   "execution_count": 51,
   "metadata": {},
   "outputs": [],
   "source": [
    "def loss(x):\n",
    "    return error(x)**2"
   ]
  },
  {
   "cell_type": "code",
   "execution_count": 52,
   "metadata": {},
   "outputs": [
    {
     "data": {
      "text/plain": [
       "0.012"
      ]
     },
     "execution_count": 52,
     "metadata": {},
     "output_type": "execute_result"
    }
   ],
   "source": [
    "round(loss(21), 3)"
   ]
  },
  {
   "cell_type": "markdown",
   "metadata": {},
   "source": [
    "##### By using a csv and taking advantage of pandas and numpy, we can instead calculate the loss for several datapoints and compare to the given y values in the csv, like so:"
   ]
  },
  {
   "cell_type": "markdown",
   "metadata": {},
   "source": [
    "1. Import Pandas and Numpy, have Pandas read the CSV file and then turn it into a Numpy array"
   ]
  },
  {
   "cell_type": "code",
   "execution_count": 132,
   "metadata": {},
   "outputs": [
    {
     "data": {
      "text/plain": [
       "array([[10,  7],\n",
       "       [ 8,  7],\n",
       "       [33,  5],\n",
       "       [84,  8],\n",
       "       [36,  6],\n",
       "       [23,  7],\n",
       "       [12,  3],\n",
       "       [74,  8],\n",
       "       [12, 10],\n",
       "       [47,  2],\n",
       "       [23,  6],\n",
       "       [34,  6],\n",
       "       [23,  8],\n",
       "       [75,  8],\n",
       "       [23,  8],\n",
       "       [21,  2],\n",
       "       [85, 10]], dtype=int64)"
      ]
     },
     "execution_count": 132,
     "metadata": {},
     "output_type": "execute_result"
    }
   ],
   "source": [
    "import pandas as pd\n",
    "import numpy as np\n",
    "movie_age = pd.read_csv(\"./assets/movie_age.csv\")\n",
    "df = pd.DataFrame(movie_age)\n",
    "ndf = df.to_numpy()\n",
    "ndf"
   ]
  },
  {
   "cell_type": "markdown",
   "metadata": {},
   "source": [
    "2. Split the Numpy array so the first column becomes it's own data array: this is our $x$ value, age"
   ]
  },
  {
   "cell_type": "code",
   "execution_count": 133,
   "metadata": {},
   "outputs": [],
   "source": [
    "ageData = ndf[:, 0]"
   ]
  },
  {
   "cell_type": "markdown",
   "metadata": {},
   "source": [
    "3. Create a new array, and for every datum in the age array, use the $\\hat{f(x)}$ from earlier to calculate $\\hat{y}$ - this can then be inserted as a new column to the original Pandas Dataframe"
   ]
  },
  {
   "cell_type": "code",
   "execution_count": 134,
   "metadata": {},
   "outputs": [],
   "source": [
    "loss = []\n",
    "for age in ageData:\n",
    "    loss.append(fhat_rating(age))\n",
    "\n",
    "df.insert(2, \"PredY\", loss, True)"
   ]
  },
  {
   "cell_type": "code",
   "execution_count": 135,
   "metadata": {},
   "outputs": [
    {
     "data": {
      "text/html": [
       "<div>\n",
       "<style scoped>\n",
       "    .dataframe tbody tr th:only-of-type {\n",
       "        vertical-align: middle;\n",
       "    }\n",
       "\n",
       "    .dataframe tbody tr th {\n",
       "        vertical-align: top;\n",
       "    }\n",
       "\n",
       "    .dataframe thead th {\n",
       "        text-align: right;\n",
       "    }\n",
       "</style>\n",
       "<table border=\"1\" class=\"dataframe\">\n",
       "  <thead>\n",
       "    <tr style=\"text-align: right;\">\n",
       "      <th></th>\n",
       "      <th>age</th>\n",
       "      <th>rating</th>\n",
       "      <th>PredY</th>\n",
       "    </tr>\n",
       "  </thead>\n",
       "  <tbody>\n",
       "    <tr>\n",
       "      <th>0</th>\n",
       "      <td>10</td>\n",
       "      <td>7</td>\n",
       "      <td>1.30</td>\n",
       "    </tr>\n",
       "    <tr>\n",
       "      <th>1</th>\n",
       "      <td>8</td>\n",
       "      <td>7</td>\n",
       "      <td>1.16</td>\n",
       "    </tr>\n",
       "    <tr>\n",
       "      <th>2</th>\n",
       "      <td>33</td>\n",
       "      <td>5</td>\n",
       "      <td>2.91</td>\n",
       "    </tr>\n",
       "    <tr>\n",
       "      <th>3</th>\n",
       "      <td>84</td>\n",
       "      <td>8</td>\n",
       "      <td>6.48</td>\n",
       "    </tr>\n",
       "    <tr>\n",
       "      <th>4</th>\n",
       "      <td>36</td>\n",
       "      <td>6</td>\n",
       "      <td>3.12</td>\n",
       "    </tr>\n",
       "    <tr>\n",
       "      <th>5</th>\n",
       "      <td>23</td>\n",
       "      <td>7</td>\n",
       "      <td>2.21</td>\n",
       "    </tr>\n",
       "    <tr>\n",
       "      <th>6</th>\n",
       "      <td>12</td>\n",
       "      <td>3</td>\n",
       "      <td>1.44</td>\n",
       "    </tr>\n",
       "    <tr>\n",
       "      <th>7</th>\n",
       "      <td>74</td>\n",
       "      <td>8</td>\n",
       "      <td>5.78</td>\n",
       "    </tr>\n",
       "    <tr>\n",
       "      <th>8</th>\n",
       "      <td>12</td>\n",
       "      <td>10</td>\n",
       "      <td>1.44</td>\n",
       "    </tr>\n",
       "    <tr>\n",
       "      <th>9</th>\n",
       "      <td>47</td>\n",
       "      <td>2</td>\n",
       "      <td>3.89</td>\n",
       "    </tr>\n",
       "    <tr>\n",
       "      <th>10</th>\n",
       "      <td>23</td>\n",
       "      <td>6</td>\n",
       "      <td>2.21</td>\n",
       "    </tr>\n",
       "    <tr>\n",
       "      <th>11</th>\n",
       "      <td>34</td>\n",
       "      <td>6</td>\n",
       "      <td>2.98</td>\n",
       "    </tr>\n",
       "    <tr>\n",
       "      <th>12</th>\n",
       "      <td>23</td>\n",
       "      <td>8</td>\n",
       "      <td>2.21</td>\n",
       "    </tr>\n",
       "    <tr>\n",
       "      <th>13</th>\n",
       "      <td>75</td>\n",
       "      <td>8</td>\n",
       "      <td>5.85</td>\n",
       "    </tr>\n",
       "    <tr>\n",
       "      <th>14</th>\n",
       "      <td>23</td>\n",
       "      <td>8</td>\n",
       "      <td>2.21</td>\n",
       "    </tr>\n",
       "    <tr>\n",
       "      <th>15</th>\n",
       "      <td>21</td>\n",
       "      <td>2</td>\n",
       "      <td>2.07</td>\n",
       "    </tr>\n",
       "    <tr>\n",
       "      <th>16</th>\n",
       "      <td>85</td>\n",
       "      <td>10</td>\n",
       "      <td>6.55</td>\n",
       "    </tr>\n",
       "  </tbody>\n",
       "</table>\n",
       "</div>"
      ],
      "text/plain": [
       "    age   rating  PredY\n",
       "0    10        7   1.30\n",
       "1     8        7   1.16\n",
       "2    33        5   2.91\n",
       "3    84        8   6.48\n",
       "4    36        6   3.12\n",
       "5    23        7   2.21\n",
       "6    12        3   1.44\n",
       "7    74        8   5.78\n",
       "8    12       10   1.44\n",
       "9    47        2   3.89\n",
       "10   23        6   2.21\n",
       "11   34        6   2.98\n",
       "12   23        8   2.21\n",
       "13   75        8   5.85\n",
       "14   23        8   2.21\n",
       "15   21        2   2.07\n",
       "16   85       10   6.55"
      ]
     },
     "execution_count": 135,
     "metadata": {},
     "output_type": "execute_result"
    }
   ],
   "source": [
    "df"
   ]
  },
  {
   "cell_type": "markdown",
   "metadata": {},
   "source": [
    "4. Now, take the second column from the numpy array - rating. For every value of $y$ subtract the $\\hat{y}$ calculated and square the result to find the square error. We will also add this as a column to our Pandas Dataframe so it is clear what we have done so far"
   ]
  },
  {
   "cell_type": "code",
   "execution_count": 136,
   "metadata": {},
   "outputs": [
    {
     "data": {
      "text/plain": [
       "array([ 7,  7,  5,  8,  6,  7,  3,  8, 10,  2,  6,  6,  8,  8,  8,  2, 10],\n",
       "      dtype=int64)"
      ]
     },
     "execution_count": 136,
     "metadata": {},
     "output_type": "execute_result"
    }
   ],
   "source": [
    "rating = ndf[:, 1]\n",
    "rating"
   ]
  },
  {
   "cell_type": "code",
   "execution_count": 137,
   "metadata": {},
   "outputs": [],
   "source": [
    "sqerror = (rating-loss)**2\n",
    "df.insert(3, \"sqError\", sqerror, True)"
   ]
  },
  {
   "cell_type": "code",
   "execution_count": 138,
   "metadata": {},
   "outputs": [
    {
     "data": {
      "text/html": [
       "<div>\n",
       "<style scoped>\n",
       "    .dataframe tbody tr th:only-of-type {\n",
       "        vertical-align: middle;\n",
       "    }\n",
       "\n",
       "    .dataframe tbody tr th {\n",
       "        vertical-align: top;\n",
       "    }\n",
       "\n",
       "    .dataframe thead th {\n",
       "        text-align: right;\n",
       "    }\n",
       "</style>\n",
       "<table border=\"1\" class=\"dataframe\">\n",
       "  <thead>\n",
       "    <tr style=\"text-align: right;\">\n",
       "      <th></th>\n",
       "      <th>age</th>\n",
       "      <th>rating</th>\n",
       "      <th>PredY</th>\n",
       "      <th>sqError</th>\n",
       "    </tr>\n",
       "  </thead>\n",
       "  <tbody>\n",
       "    <tr>\n",
       "      <th>0</th>\n",
       "      <td>10</td>\n",
       "      <td>7</td>\n",
       "      <td>1.30</td>\n",
       "      <td>32.4900</td>\n",
       "    </tr>\n",
       "    <tr>\n",
       "      <th>1</th>\n",
       "      <td>8</td>\n",
       "      <td>7</td>\n",
       "      <td>1.16</td>\n",
       "      <td>34.1056</td>\n",
       "    </tr>\n",
       "    <tr>\n",
       "      <th>2</th>\n",
       "      <td>33</td>\n",
       "      <td>5</td>\n",
       "      <td>2.91</td>\n",
       "      <td>4.3681</td>\n",
       "    </tr>\n",
       "    <tr>\n",
       "      <th>3</th>\n",
       "      <td>84</td>\n",
       "      <td>8</td>\n",
       "      <td>6.48</td>\n",
       "      <td>2.3104</td>\n",
       "    </tr>\n",
       "    <tr>\n",
       "      <th>4</th>\n",
       "      <td>36</td>\n",
       "      <td>6</td>\n",
       "      <td>3.12</td>\n",
       "      <td>8.2944</td>\n",
       "    </tr>\n",
       "    <tr>\n",
       "      <th>5</th>\n",
       "      <td>23</td>\n",
       "      <td>7</td>\n",
       "      <td>2.21</td>\n",
       "      <td>22.9441</td>\n",
       "    </tr>\n",
       "    <tr>\n",
       "      <th>6</th>\n",
       "      <td>12</td>\n",
       "      <td>3</td>\n",
       "      <td>1.44</td>\n",
       "      <td>2.4336</td>\n",
       "    </tr>\n",
       "    <tr>\n",
       "      <th>7</th>\n",
       "      <td>74</td>\n",
       "      <td>8</td>\n",
       "      <td>5.78</td>\n",
       "      <td>4.9284</td>\n",
       "    </tr>\n",
       "    <tr>\n",
       "      <th>8</th>\n",
       "      <td>12</td>\n",
       "      <td>10</td>\n",
       "      <td>1.44</td>\n",
       "      <td>73.2736</td>\n",
       "    </tr>\n",
       "    <tr>\n",
       "      <th>9</th>\n",
       "      <td>47</td>\n",
       "      <td>2</td>\n",
       "      <td>3.89</td>\n",
       "      <td>3.5721</td>\n",
       "    </tr>\n",
       "    <tr>\n",
       "      <th>10</th>\n",
       "      <td>23</td>\n",
       "      <td>6</td>\n",
       "      <td>2.21</td>\n",
       "      <td>14.3641</td>\n",
       "    </tr>\n",
       "    <tr>\n",
       "      <th>11</th>\n",
       "      <td>34</td>\n",
       "      <td>6</td>\n",
       "      <td>2.98</td>\n",
       "      <td>9.1204</td>\n",
       "    </tr>\n",
       "    <tr>\n",
       "      <th>12</th>\n",
       "      <td>23</td>\n",
       "      <td>8</td>\n",
       "      <td>2.21</td>\n",
       "      <td>33.5241</td>\n",
       "    </tr>\n",
       "    <tr>\n",
       "      <th>13</th>\n",
       "      <td>75</td>\n",
       "      <td>8</td>\n",
       "      <td>5.85</td>\n",
       "      <td>4.6225</td>\n",
       "    </tr>\n",
       "    <tr>\n",
       "      <th>14</th>\n",
       "      <td>23</td>\n",
       "      <td>8</td>\n",
       "      <td>2.21</td>\n",
       "      <td>33.5241</td>\n",
       "    </tr>\n",
       "    <tr>\n",
       "      <th>15</th>\n",
       "      <td>21</td>\n",
       "      <td>2</td>\n",
       "      <td>2.07</td>\n",
       "      <td>0.0049</td>\n",
       "    </tr>\n",
       "    <tr>\n",
       "      <th>16</th>\n",
       "      <td>85</td>\n",
       "      <td>10</td>\n",
       "      <td>6.55</td>\n",
       "      <td>11.9025</td>\n",
       "    </tr>\n",
       "  </tbody>\n",
       "</table>\n",
       "</div>"
      ],
      "text/plain": [
       "    age   rating  PredY  sqError\n",
       "0    10        7   1.30  32.4900\n",
       "1     8        7   1.16  34.1056\n",
       "2    33        5   2.91   4.3681\n",
       "3    84        8   6.48   2.3104\n",
       "4    36        6   3.12   8.2944\n",
       "5    23        7   2.21  22.9441\n",
       "6    12        3   1.44   2.4336\n",
       "7    74        8   5.78   4.9284\n",
       "8    12       10   1.44  73.2736\n",
       "9    47        2   3.89   3.5721\n",
       "10   23        6   2.21  14.3641\n",
       "11   34        6   2.98   9.1204\n",
       "12   23        8   2.21  33.5241\n",
       "13   75        8   5.85   4.6225\n",
       "14   23        8   2.21  33.5241\n",
       "15   21        2   2.07   0.0049\n",
       "16   85       10   6.55  11.9025"
      ]
     },
     "execution_count": 138,
     "metadata": {},
     "output_type": "execute_result"
    }
   ],
   "source": [
    "df"
   ]
  },
  {
   "cell_type": "markdown",
   "metadata": {},
   "source": [
    "5. Finally, we can use the mean function from statistic to calculate the mean of all of our squared errors -- $\\bar{(y-\\hat{y})}$ -- to get our final value of $L$"
   ]
  },
  {
   "cell_type": "code",
   "execution_count": 139,
   "metadata": {},
   "outputs": [
    {
     "data": {
      "text/plain": [
       "17.398994117647057"
      ]
     },
     "execution_count": 139,
     "metadata": {},
     "output_type": "execute_result"
    }
   ],
   "source": [
    "from statistics import *\n",
    "mean(sqerror)"
   ]
  },
  {
   "cell_type": "markdown",
   "metadata": {},
   "source": [
    "*Whilst admitedly this could be done much quicker without python for a small dataset such as this, when working with much larger datasets it makes sense to have a simple script which is capable of processing all the data - and without making errors or getting bored!*"
   ]
  }
 ],
 "metadata": {
  "kernelspec": {
   "display_name": "Python 3.10.6 64-bit (windows store)",
   "language": "python",
   "name": "python3"
  },
  "language_info": {
   "codemirror_mode": {
    "name": "ipython",
    "version": 3
   },
   "file_extension": ".py",
   "mimetype": "text/x-python",
   "name": "python",
   "nbconvert_exporter": "python",
   "pygments_lexer": "ipython3",
   "version": "3.10.6"
  },
  "orig_nbformat": 4,
  "vscode": {
   "interpreter": {
    "hash": "a6d97792ffd1c5ce8a3c574cdb9c16979d479e9e4b529749f2388743ff096d87"
   }
  }
 },
 "nbformat": 4,
 "nbformat_minor": 2
}
